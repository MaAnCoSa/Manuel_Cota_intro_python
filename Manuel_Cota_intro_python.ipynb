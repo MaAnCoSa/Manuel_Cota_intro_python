{
  "cells": [
    {
      "cell_type": "markdown",
      "metadata": {
        "id": "sJoe1DEXlAW_"
      },
      "source": [
        "<a href=\"https://colab.research.google.com/github/mcd-unison/material-programacion/blob/main/intro-python.ipynb\" target=\"_parent\"><img src=\"https://colab.research.google.com/assets/colab-badge.svg\" alt=\"Open In Colab\"/></a>"
      ]
    },
    {
      "cell_type": "markdown",
      "metadata": {
        "id": "WEKtV9HAlAXC"
      },
      "source": [
        "<center>\n",
        "<p><img src=\"https://mcd.unison.mx/wp-content/themes/awaken/img/logo_mcd.png\" width=\"100\">\n",
        "</p>\n",
        "\n",
        "\n",
        "\n",
        "# Curso Propedéutico en *Programación*\n",
        "\n",
        "## Introducción a `python` resolviendo preguntas\n",
        "\n",
        "\n",
        "**Julio Waissman Vilanova**\n",
        "\n"
      ]
    },
    {
      "cell_type": "markdown",
      "metadata": {
        "id": "XKza3wIdlAXC"
      },
      "source": [
        "### Tipos\n",
        "\n",
        "¿Cuales son los tipos de datos básicos? Revisa los tipos siguientes:\n",
        "\n",
        "1. Tipos numéricos `int`, `float`, `complex`\n",
        "2. Cadenas de caracteres\n",
        "3. Tuplas\n",
        "4. Listas\n",
        "5. Diccionarios\n",
        "6. Conjuntos\n",
        "\n",
        "Da ejemplo de sobrecarga de operadores (en particular `+` y `*`)\n",
        "\n"
      ]
    },
    {
      "cell_type": "code",
      "execution_count": null,
      "metadata": {
        "id": "qxJ7LwbdlAXC"
      },
      "outputs": [],
      "source": [
        "x = 3\n",
        "y = 2"
      ]
    },
    {
      "cell_type": "code",
      "source": [
        "# Ya que todo en Python son objetos, todo tiene sus procedimientos propios. En el caso de los entero, se tienen los procedimientos de suma, resta, multiplicacion y división.\n",
        "\n",
        "# Sin sobrecarga:\n",
        "print(\"SUM: \\t\\t\" + str(x.__add__(y)))\n",
        "print(\"SUBTRACT: \\t\" + str(x.__sub__(y)))\n",
        "print(\"MULTPLY: \\t\" + str(x.__mul__(y)))\n",
        "print(\"DIVIDE: \\t\" + str(x.__truediv__(y)))"
      ],
      "metadata": {
        "colab": {
          "base_uri": "https://localhost:8080/"
        },
        "id": "WxRNCjR8l2NC",
        "outputId": "265ba563-2341-474e-af13-b8ef88239676"
      },
      "execution_count": null,
      "outputs": [
        {
          "output_type": "stream",
          "name": "stdout",
          "text": [
            "SUM: \t\t5\n",
            "SUBTRACT: \t1\n",
            "MULTPLY: \t6\n",
            "DIVIDE: \t1.5\n"
          ]
        }
      ]
    },
    {
      "cell_type": "code",
      "source": [
        "# Para facilitar la escritura de estas operaciones, esos procedimientos tiene sobrecagra a los operadores mas conocidos:\n",
        "\n",
        "# Con sobrecarga:\n",
        "print(\"SUM: \\t\\t\" + str(x + y))\n",
        "print(\"SUBTRACT: \\t\" + str(x - y))\n",
        "print(\"MULTPLY: \\t\" + str(x * y))\n",
        "print(\"DIVIDE: \\t\" + str(x / y))"
      ],
      "metadata": {
        "colab": {
          "base_uri": "https://localhost:8080/"
        },
        "id": "XaDbgx1ll05m",
        "outputId": "c26e9d8f-6d5b-4365-da26-298789bc9575"
      },
      "execution_count": null,
      "outputs": [
        {
          "output_type": "stream",
          "name": "stdout",
          "text": [
            "SUM: \t\t5\n",
            "SUBTRACT: \t1\n",
            "MULTPLY: \t6\n",
            "DIVIDE: \t1.5\n"
          ]
        }
      ]
    },
    {
      "cell_type": "markdown",
      "metadata": {
        "id": "7BcTkYbhlAXD"
      },
      "source": [
        "¿Que significa que unos tipos sean *mutables* y otros *inmutables*?\n",
        "\n",
        "Realiza un pequeño programa donde quede claro lo que significa que un tipo de datos sea mutable, e ilustra el uso del método `copy.deepcopy()`."
      ]
    },
    {
      "cell_type": "code",
      "execution_count": 12,
      "metadata": {
        "id": "qj814gTnlAXD",
        "colab": {
          "base_uri": "https://localhost:8080/"
        },
        "outputId": "4d5bbb27-a16f-49ae-e5e5-9c4b649fa830"
      },
      "outputs": [
        {
          "output_type": "stream",
          "name": "stdout",
          "text": [
            "LISTA ORGINIAL:\t\t\t\t l = [0, 1, 2, 3]\n",
            "LISTA 2 (l2 = l):\t\t\t l2 = [0, 1, 2, 3]\n",
            "LISTA ORIGINAL MODIFICADA:\t\t l = [0, 1, 2, 3, 4]\n",
            "LISTA l2 DESPUES DE MODIFICAR l:\t l2 =[0, 1, 2, 3, 4]\n"
          ]
        }
      ],
      "source": [
        "# Todos los objetos en Python pueden ser mutaables o inmutables. Mutable significa que es posible modificare su valor, mientras que inmutable significa que no es posible.\n",
        "# Como ejemplo de un objeto mutable, tenemos las listas.\n",
        "\n",
        "# Declaramsos una lista \"l\":\n",
        "l = [0, 1, 2, 3]\n",
        "print(\"LISTA ORGINIAL:\\t\\t\\t\\t l = \" + str(l))\n",
        "\n",
        "# Creamos otra lista \"l2\" intentando copiar \"l\":\n",
        "l2 = l\n",
        "print(\"LISTA 2 (l2 = l):\\t\\t\\t l2 = \" + str(l2))\n",
        "\n",
        "# Modificamos la lista original \"l\":\n",
        "l.append(4)\n",
        "print(\"LISTA ORIGINAL MODIFICADA:\\t\\t l = \" + str(l))\n",
        "\n",
        "'''\n",
        "Como se puede ver, podemos modificar \"l\". Sin embargo, podemos tambien ver que la copia se vio afectada de la misma manera.\n",
        "'''\n",
        "\n",
        "# \"l2\", siendo una copia, no deberia de verse alterada, sin embargo... :\n",
        "print(\"LISTA l2 DESPUES DE MODIFICAR l:\\t l2 =\" + str(l2))\n",
        "\n",
        "# Esto se debe a que la variable \"l\" era en realidad un apuntador a la memoria donde esta almacenada la lista. Al declarar que \"l2 = l\", estamos diciendo que \"l2\" ahora sera tambien\n",
        "# un apuntador a ese mismmo espacio en la memoria. Entonces, modificar \"l\" o \"l2\" es lo mismo."
      ]
    },
    {
      "cell_type": "code",
      "source": [
        "# Para lograr una verdadera copia, podemos usar \"deepcopy\".\n",
        "\n",
        "# Primero importamos Deepcopy\n",
        "from copy import deepcopy\n",
        "\n",
        "# Redeclaramsos la lista \"l\":\n",
        "l = [0, 1, 2, 3]\n",
        "print(\"LISTA ORGINIAL:\\t\\t\\t\\t l = \" + str(l))\n",
        "\n",
        "# Redeclaramos la otra lista \"l2\" intentando copiar \"l\":\n",
        "l2 = deepcopy(l)\n",
        "print(\"LISTA 2 (l2 = l):\\t\\t\\t l2 = \" + str(l2))\n",
        "\n",
        "# Modificamos la lista original \"l\":\n",
        "l.append(4)\n",
        "print(\"LISTA ORIGINAL MODIFICADA:\\t\\t l = \" + str(l))\n",
        "\n",
        "# Revisamos que \"l2\" no se haya vista modificada:\n",
        "print(\"LISTA l2 DESPUES DE MODIFICAR l:\\t l2 =\" + str(l2))\n",
        "\n",
        "# Ahora, \"l2\" y \"l\" apuntan a espacios de memoria distintos a dos listas distintas, por lo que modificar una no modifica la otra."
      ],
      "metadata": {
        "colab": {
          "base_uri": "https://localhost:8080/"
        },
        "id": "ve2bQal3cNG9",
        "outputId": "6073030c-4513-4654-bba0-dd7e8138dab6"
      },
      "execution_count": 16,
      "outputs": [
        {
          "output_type": "stream",
          "name": "stdout",
          "text": [
            "LISTA ORGINIAL:\t\t\t\t l = [0, 1, 2, 3]\n",
            "LISTA 2 (l2 = l):\t\t\t l2 = [0, 1, 2, 3]\n",
            "LISTA ORIGINAL MODIFICADA:\t\t l = [0, 1, 2, 3, 4]\n",
            "LISTA l2 DESPUES DE MODIFICAR l:\t l2 =[0, 1, 2, 3]\n"
          ]
        }
      ]
    },
    {
      "cell_type": "code",
      "source": [
        "# Para un ejemplo de inmutabilidad, podemos usar las tuplas. Por ejemplo, declaramos la siguiente tupla:\n",
        "t = (0, 1, 2)\n",
        "print(\"TUPLA:\\t t = \" + str(t))\n",
        "\n",
        "# Ahora intentamos modificar la tupla \"t\":\n",
        "try:\n",
        "  t.append(4)\n",
        "except AttributeError:\n",
        "  print(\"ERROR AL MODIFICAR t: AttributeError\")\n",
        "\n",
        "# Como se puede ver, al intentar modificar \"t\", se arroja un error de atributo."
      ],
      "metadata": {
        "colab": {
          "base_uri": "https://localhost:8080/"
        },
        "id": "OCfC6ruZc8le",
        "outputId": "c41c257c-c057-4c74-ad70-7403d202f270"
      },
      "execution_count": 20,
      "outputs": [
        {
          "output_type": "stream",
          "name": "stdout",
          "text": [
            "TUPLA:\t t = (0, 1, 2)\n",
            "ERROR WHEN MODIFYING t: AttributeError\n"
          ]
        }
      ]
    },
    {
      "cell_type": "markdown",
      "metadata": {
        "id": "Vof-LnoulAXD"
      },
      "source": [
        "### *Comprehension* de listas, conjuntos y diccionarios\n",
        "\n",
        "Escribe, en una sola linea, una expresión que genere una lista con todos los números enteros que se encuentran entre $1$ y $n$\n",
        "que sean divisibles por $3$ y $7$ y que el dígito menos significativo del número sea $6$."
      ]
    },
    {
      "cell_type": "code",
      "execution_count": 21,
      "metadata": {
        "id": "NlqfB_LalAXD",
        "colab": {
          "base_uri": "https://localhost:8080/"
        },
        "outputId": "445a89f0-9cfe-4407-af8b-1780a2dfb412"
      },
      "outputs": [
        {
          "output_type": "stream",
          "name": "stdout",
          "text": [
            "[126, 336, 546, 756, 966, 1176, 1386, 1596, 1806, 2016, 2226, 2436, 2646, 2856, 3066, 3276, 3486, 3696, 3906, 4116, 4326, 4536, 4746, 4956, 5166, 5376, 5586, 5796, 6006, 6216, 6426, 6636, 6846, 7056, 7266, 7476, 7686, 7896, 8106, 8316, 8526, 8736, 8946, 9156, 9366, 9576, 9786, 9996]\n"
          ]
        }
      ],
      "source": [
        "n = 10_000\n",
        "\n",
        "# Escribe aqui el *one linner*\n",
        "l = [ x for x in range(n) if x % 3 == 0 and x % 7 == 0 and x % 10 == 6 ]\n",
        "print(l)"
      ]
    },
    {
      "cell_type": "markdown",
      "metadata": {
        "id": "JVk0Ad8DlAXE"
      },
      "source": [
        "### Funciones\n",
        "\n",
        "Escribe una función que:\n",
        "\n",
        "1. reciba una lista de elementos (letras, números, lo que sea),\n",
        "2. cuente la ocurrencia de cada elemento en la lista,\n",
        "3. devuelva las ocurrencias en forma de diccionario,\n",
        "4. si imprime es True, imprima un histograma de ocurrencias, por ejemplo:\n",
        "\n",
        "```python\n",
        "\n",
        "lista = [1,'a',1, 13, 'hola', 'a', 1, 1, 'a', 1]\n",
        "\n",
        "d = funcion_ejemplo(lista, imprime = True)\n",
        "\n",
        "1    \t\t***** \t(5 -> 50%)\n",
        "'a'  \t\t***   \t(3 -> 30%)\n",
        "13\t\t*\t(1 -> 10%)\n",
        "'hola'\t\t*\t(1 -> 10%)\n",
        "\n",
        "```"
      ]
    },
    {
      "cell_type": "code",
      "execution_count": 32,
      "metadata": {
        "id": "xNprqp_SlAXE"
      },
      "outputs": [],
      "source": [
        "# Escribe la función aquí\n",
        "\n",
        "def funcion_ejemplo(lista, imprime=False):\n",
        "  # Contamos la cantidad de elementos.\n",
        "  counts = { x: lista.count(x) for x in lista }\n",
        "\n",
        "  # En caso de requeriri la impresion...\n",
        "  if imprime:\n",
        "    for x in counts.keys():\n",
        "      # Por cada valor distinto encontrado, se imprime el reporte.\n",
        "      print(f'{x}\\t\\t{counts[x]*\"*\"}\\t\\t({x} -> {counts[x]/len(lista)*100}%)')\n",
        "\n",
        "  # Devolvemos el diccionario con el conteo.\n",
        "  return counts"
      ]
    },
    {
      "cell_type": "code",
      "execution_count": 33,
      "metadata": {
        "id": "TsA5YuPilAXE",
        "colab": {
          "base_uri": "https://localhost:8080/"
        },
        "outputId": "39e11a73-aee5-4f57-9751-d346123d48b6"
      },
      "outputs": [
        {
          "output_type": "stream",
          "name": "stdout",
          "text": [
            "1\t\t*****\t\t(1 -> 50.0%)\n",
            "a\t\t***\t\t(a -> 30.0%)\n",
            "13\t\t*\t\t(13 -> 10.0%)\n",
            "hola\t\t*\t\t(hola -> 10.0%)\n",
            "{1: 5, 'a': 3, 13: 1, 'hola': 1}\n"
          ]
        }
      ],
      "source": [
        "# Realiza pruebas aquí\n",
        "lista = [1,'a',1, 13, 'hola', 'a', 1, 1, 'a', 1]\n",
        "d = funcion_ejemplo(lista, imprime = True)\n",
        "print(d)"
      ]
    },
    {
      "cell_type": "markdown",
      "metadata": {
        "id": "W91Sou9TlAXF"
      },
      "source": [
        "Escribe una función que modifique un diccionario y regrese el diccionario modificado y una copia del original, donde cada entrada\n",
        "del diccionario sea una lista de valores. Ten en cuenta que si una entrada del diccionario es de tipo mutable, al modificarlo en la\n",
        "copia se modifica el original. Utiliza el modulo `copy` para evitar este problema. Ejemplo de la función:\n",
        "\n",
        "```python\n",
        "dic1 = {'Pepe':[12, 'enero', 1980], 'Carolina':[15,'mayo',1975],'Paco':[10,'nov',1970]}\n",
        "dic2 = fundicos(dic1, 'Pepe', 1, 'febrero')\n",
        "\n",
        "print(dic1)\n",
        "{'Pepe':[12, 'enero', 1980], 'Carolina':[15,'mayo',1975],'Paco':[10,'nov',1970]}\n",
        "\n",
        "print(dic2)\n",
        "{'Pepe':[12, 'febrero', 1980], 'Carolina':[15,'mayo',1975],'Paco':[10,'nov',1970]}\n",
        "```"
      ]
    },
    {
      "cell_type": "code",
      "execution_count": 36,
      "metadata": {
        "id": "PqSE5eEJlAXF"
      },
      "outputs": [],
      "source": [
        "# Escribe la función fundicos aquí\n",
        "from copy import deepcopy\n",
        "\n",
        "def fundicos(dict1, name, day, month):\n",
        "  # Copiamos el diccionario para no modificar el original.\n",
        "  dict2 = deepcopy(dict1)\n",
        "  # Actualizamos la copia.\n",
        "  dict2[name][0] = day\n",
        "  dict2[name][1] = month\n",
        "  # Regresamos la copia modificada.\n",
        "  return dict2"
      ]
    },
    {
      "cell_type": "code",
      "execution_count": 37,
      "metadata": {
        "id": "6fv4Py2HlAXF",
        "colab": {
          "base_uri": "https://localhost:8080/"
        },
        "outputId": "0c7b63d5-3eb1-4982-ddcb-8c0e2cf905f1"
      },
      "outputs": [
        {
          "output_type": "stream",
          "name": "stdout",
          "text": [
            "{'Pepe': [12, 'enero', 1980], 'Carolina': [15, 'mayo', 1975], 'Paco': [10, 'nov', 1970]}\n",
            "{'Pepe': [1, 'febrero', 1980], 'Carolina': [15, 'mayo', 1975], 'Paco': [10, 'nov', 1970]}\n"
          ]
        }
      ],
      "source": [
        "# Realiza pruebas de fundicos aquí\n",
        "dic1 = {'Pepe':[12, 'enero', 1980], 'Carolina':[15,'mayo',1975],'Paco':[10,'nov',1970]}\n",
        "dic2 = fundicos(dic1, 'Pepe', 1, 'febrero')\n",
        "\n",
        "print(dic1)\n",
        "print(dic2)"
      ]
    },
    {
      "cell_type": "markdown",
      "metadata": {
        "id": "ZUgiIgmJlAXF"
      },
      "source": [
        "### Generadores\n",
        "\n",
        "Escribe un generador que reciba una lista y genere todas las permutaciones que se puedan hacer con los elementos de la lista"
      ]
    },
    {
      "cell_type": "code",
      "execution_count": 4,
      "metadata": {
        "id": "vsITobfilAXF"
      },
      "outputs": [],
      "source": [
        "# Escribe aqui fun1\n",
        "from itertools import permutations\n",
        "\n",
        "def permutaciones(lista, perms=[]):\n",
        "    \"\"\"\n",
        "    Permutaciones de los elementos de una lista.\n",
        "\n",
        "    Devuelve un generador con todas las permutaciones posibles de los elementos de la lista de entrada\n",
        "    \"\"\"\n",
        "\n",
        "    # Caso base (la lista llega vacia).\n",
        "    if len(lista) == 0:\n",
        "      yield lista\n",
        "    else:\n",
        "      # Por cada elemento de la lista...\n",
        "      for i, x in enumerate(lista):\n",
        "        # Filtramos ese elemento de la lista.\n",
        "        rem_list = lista[:i] + lista[i+1:]\n",
        "        # obtenemos todas las permutaciones de esa lista.\n",
        "        for perm in permutaciones(rem_list):\n",
        "          yield [ x ] + perm\n"
      ]
    },
    {
      "cell_type": "code",
      "execution_count": 5,
      "metadata": {
        "id": "D7tQic_dlAXF",
        "colab": {
          "base_uri": "https://localhost:8080/"
        },
        "outputId": "5279502a-6c1a-494e-fa6d-fc614d7e7bb9"
      },
      "outputs": [
        {
          "output_type": "stream",
          "name": "stdout",
          "text": [
            "['a', 'b', 'c', 'd']\n",
            "['a', 'b', 'd', 'c']\n",
            "['a', 'c', 'b', 'd']\n",
            "['a', 'c', 'd', 'b']\n",
            "['a', 'd', 'b', 'c']\n",
            "['a', 'd', 'c', 'b']\n",
            "['b', 'a', 'c', 'd']\n",
            "['b', 'a', 'd', 'c']\n",
            "['b', 'c', 'a', 'd']\n",
            "['b', 'c', 'd', 'a']\n",
            "['b', 'd', 'a', 'c']\n",
            "['b', 'd', 'c', 'a']\n",
            "['c', 'a', 'b', 'd']\n",
            "['c', 'a', 'd', 'b']\n",
            "['c', 'b', 'a', 'd']\n",
            "['c', 'b', 'd', 'a']\n",
            "['c', 'd', 'a', 'b']\n",
            "['c', 'd', 'b', 'a']\n",
            "['d', 'a', 'b', 'c']\n",
            "['d', 'a', 'c', 'b']\n",
            "['d', 'b', 'a', 'c']\n",
            "['d', 'b', 'c', 'a']\n",
            "['d', 'c', 'a', 'b']\n",
            "['d', 'c', 'b', 'a']\n"
          ]
        }
      ],
      "source": [
        "# Realiza pruebas de fun2 aquí\n",
        "for p in permutaciones(['a', 'b', 'c', 'd']):\n",
        "    print(p)"
      ]
    },
    {
      "cell_type": "markdown",
      "metadata": {
        "id": "omkvhf8flAXF"
      },
      "source": [
        "Ahora escribe una funcipn que reciba 4 digitos del 0 al 9, y devuelva una lista con todas las horas váidas que se puedan hacer con estos dígitos en forma de lista de strings con la forma `\"HH:MM\"`."
      ]
    },
    {
      "cell_type": "code",
      "execution_count": 19,
      "metadata": {
        "id": "-6CH4zsblAXF"
      },
      "outputs": [],
      "source": [
        "def horas_validas(lista):\n",
        "    \"\"\"\n",
        "    Generador de posibles horas validas.\n",
        "\n",
        "    Devuelve una lista de strings de hora en formato \"HH:MM\" con la hora de 1 a 12 basandose en posibles combinaciones de una lista de 4 digitos.\n",
        "    \"\"\"\n",
        "\n",
        "    return [ f'{x[0]}{x[1]}:{x[2]}{x[3]}' for x in permutaciones(lista) if int( str(x[0]) + str(x[1]) ) < 13 and int( str(x[2]) + str(x[3]) ) < 60 ]\n"
      ]
    },
    {
      "cell_type": "markdown",
      "metadata": {
        "id": "wDvdS3q_lAXG"
      },
      "source": [
        "Validando:"
      ]
    },
    {
      "cell_type": "code",
      "execution_count": 20,
      "metadata": {
        "id": "hmo12TRnlAXG",
        "colab": {
          "base_uri": "https://localhost:8080/"
        },
        "outputId": "fc82a377-1318-4724-aa69-ae855380e3eb"
      },
      "outputs": [
        {
          "output_type": "stream",
          "name": "stdout",
          "text": [
            "['12:34', '12:43']\n"
          ]
        }
      ],
      "source": [
        "print(horas_validas([1,2,3,4]))"
      ]
    },
    {
      "cell_type": "markdown",
      "metadata": {
        "id": "-VFCVEY5lAXG"
      },
      "source": [
        "Escribe una función, lo más compacta posible, que escoja entre los 3 patrones ascii a continuación, e imprima en pantalla\n",
        "el deseado, pero de dimensión $n$ ($n \\ge 4$), toma en cuanta que para algunos valores de $n$ habrá\n",
        "algún(os) patrones que no se puedan hacer.\n",
        "\n",
        "```\n",
        "          *             ++++           oooooooo\n",
        "          **            ++++           ooo  ooo\n",
        "          ***           ++++           oo    oo\n",
        "          ****          ++++           o      o\n",
        "          *****             ++++       o      o\n",
        "          ******            ++++       oo    oo\n",
        "          *******           ++++       ooo  ooo\n",
        "          ********          ++++       oooooooo\n",
        "\n",
        "```"
      ]
    },
    {
      "cell_type": "code",
      "execution_count": 88,
      "metadata": {
        "id": "XbeLybKplAXG"
      },
      "outputs": [],
      "source": [
        "# Escribe aquí la función\n",
        "\n",
        "def gen_figura(n, fig=1):\n",
        "  '''\n",
        "  Generates one fo three ASCII figures:\n",
        "\n",
        "        Figure1:      Figure 2:       Figure 3:\n",
        "\n",
        "          *             ++++           oooooooo\n",
        "          **            ++++           ooo  ooo\n",
        "          ***           ++++           oo    oo\n",
        "          ****          ++++           o      o\n",
        "          *****             ++++       o      o\n",
        "          ******            ++++       oo    oo\n",
        "          *******           ++++       ooo  ooo\n",
        "          ********          ++++       oooooooo\n",
        "\n",
        "  The above examples are for 'n=8'. 'n' can't be less than 4 and no odd number is accepted for Fig. 3.\n",
        "  '''\n",
        "\n",
        "  # We ensure that 'n' is at least 4.\n",
        "  n = n if n >= 4 else 4\n",
        "  # We calculate half the dimension we received (useful for figures 2 and 3)\n",
        "  lim = int(n/2)\n",
        "  # We start iterating:\n",
        "  for i in range(n):\n",
        "    # Figure 1\n",
        "    if fig == 1:\n",
        "      # We simply start printing the pyramid.\n",
        "      print( (i+1) * '*')\n",
        "    # Figure 2\n",
        "    elif fig == 2:\n",
        "      # We generate 4 sections, since everything changes by quadrant.\n",
        "      print( (int(n/2) * \"+\") + (int(n/2) * \" \") if i < lim else (int(n/2) * \" \") + (int(n/2) * \"+\"))\n",
        "    # Figure 3\n",
        "    elif fig == 3:\n",
        "      if n % 2 == 0:\n",
        "        # Same as in figure 2, we generate each quadrant.\n",
        "        print( (((lim-i) * \"°\") + (i * \" \")) + ((i * \" \") + ((lim-i) * \"°\")) if i < lim else (((i-lim+1) * \"°\") + (((2*lim)-i-1) * \" \")) + ((((2*lim)-i-1) * \" \") + ((i-lim+1) * \"°\")))\n",
        "      else:\n",
        "        # No odd numbers are allowed as 'n' for figure 3.\n",
        "        raise Exception(\"For figure no. 3, 'n' can't be a odd number!\")"
      ]
    },
    {
      "cell_type": "code",
      "execution_count": 82,
      "metadata": {
        "id": "kqIEYu8olAXG",
        "colab": {
          "base_uri": "https://localhost:8080/"
        },
        "outputId": "6b9b77d5-094b-4df7-ed2e-d67938eb41c6"
      },
      "outputs": [
        {
          "output_type": "stream",
          "name": "stdout",
          "text": [
            "*\n",
            "**\n",
            "***\n",
            "****\n",
            "*****\n",
            "******\n",
            "*******\n",
            "********\n",
            "*********\n",
            "**********\n"
          ]
        }
      ],
      "source": [
        "#Realiza pruebas aquí\n",
        "\n",
        "# Generating 1st figure\n",
        "gen_figura(10) # By default, fig=1"
      ]
    },
    {
      "cell_type": "code",
      "source": [
        "# Generating 2nd figure\n",
        "gen_figura(10, 2)"
      ],
      "metadata": {
        "colab": {
          "base_uri": "https://localhost:8080/"
        },
        "id": "Yetcx0-zA5V2",
        "outputId": "932958a9-a7c2-4d92-e8fa-ba5c9672efde"
      },
      "execution_count": 83,
      "outputs": [
        {
          "output_type": "stream",
          "name": "stdout",
          "text": [
            "+++++     \n",
            "+++++     \n",
            "+++++     \n",
            "+++++     \n",
            "+++++     \n",
            "     +++++\n",
            "     +++++\n",
            "     +++++\n",
            "     +++++\n",
            "     +++++\n"
          ]
        }
      ]
    },
    {
      "cell_type": "code",
      "source": [
        "# Generating 3rd figure\n",
        "gen_figura(10, 3)"
      ],
      "metadata": {
        "colab": {
          "base_uri": "https://localhost:8080/"
        },
        "id": "CdAlMYEdBAyT",
        "outputId": "5de2e0b4-41ce-490b-94f7-ac89bce0cf76"
      },
      "execution_count": 85,
      "outputs": [
        {
          "output_type": "stream",
          "name": "stdout",
          "text": [
            "°°°°°°°°°°\n",
            "°°°°  °°°°\n",
            "°°°    °°°\n",
            "°°      °°\n",
            "°        °\n",
            "°        °\n",
            "°°      °°\n",
            "°°°    °°°\n",
            "°°°°  °°°°\n",
            "°°°°°°°°°°\n"
          ]
        }
      ]
    },
    {
      "cell_type": "code",
      "source": [
        "# Rasiing an Exception by trying an odd number as 'n' for the 3rd figure.\n",
        "gen_figura(11, 3)"
      ],
      "metadata": {
        "colab": {
          "base_uri": "https://localhost:8080/",
          "height": 245
        },
        "id": "IdgEoDB1BDNP",
        "outputId": "7bf10821-42d6-4427-f2b7-85b436608ceb"
      },
      "execution_count": 86,
      "outputs": [
        {
          "output_type": "error",
          "ename": "Exception",
          "evalue": "For figure no. 3, 'n' can't be a odd number!",
          "traceback": [
            "\u001b[0;31m---------------------------------------------------------------------------\u001b[0m",
            "\u001b[0;31mException\u001b[0m                                 Traceback (most recent call last)",
            "\u001b[0;32m<ipython-input-86-3a1ec8b6a5c7>\u001b[0m in \u001b[0;36m<cell line: 2>\u001b[0;34m()\u001b[0m\n\u001b[1;32m      1\u001b[0m \u001b[0;31m# Rasiing an Exception by trying an odd number as 'n' for the 3rd figure.\u001b[0m\u001b[0;34m\u001b[0m\u001b[0;34m\u001b[0m\u001b[0m\n\u001b[0;32m----> 2\u001b[0;31m \u001b[0mgen_figura\u001b[0m\u001b[0;34m(\u001b[0m\u001b[0;36m11\u001b[0m\u001b[0;34m,\u001b[0m \u001b[0;36m3\u001b[0m\u001b[0;34m)\u001b[0m\u001b[0;34m\u001b[0m\u001b[0;34m\u001b[0m\u001b[0m\n\u001b[0m",
            "\u001b[0;32m<ipython-input-81-e9b3b4e4027c>\u001b[0m in \u001b[0;36mgen_figura\u001b[0;34m(n, fig)\u001b[0m\n\u001b[1;32m     13\u001b[0m         \u001b[0mprint\u001b[0m\u001b[0;34m(\u001b[0m \u001b[0;34m(\u001b[0m\u001b[0;34m(\u001b[0m\u001b[0;34m(\u001b[0m\u001b[0mlim\u001b[0m\u001b[0;34m-\u001b[0m\u001b[0mi\u001b[0m\u001b[0;34m)\u001b[0m \u001b[0;34m*\u001b[0m \u001b[0;34m\"°\"\u001b[0m\u001b[0;34m)\u001b[0m \u001b[0;34m+\u001b[0m \u001b[0;34m(\u001b[0m\u001b[0mi\u001b[0m \u001b[0;34m*\u001b[0m \u001b[0;34m\" \"\u001b[0m\u001b[0;34m)\u001b[0m\u001b[0;34m)\u001b[0m \u001b[0;34m+\u001b[0m \u001b[0;34m(\u001b[0m\u001b[0;34m(\u001b[0m\u001b[0mi\u001b[0m \u001b[0;34m*\u001b[0m \u001b[0;34m\" \"\u001b[0m\u001b[0;34m)\u001b[0m \u001b[0;34m+\u001b[0m \u001b[0;34m(\u001b[0m\u001b[0;34m(\u001b[0m\u001b[0mlim\u001b[0m\u001b[0;34m-\u001b[0m\u001b[0mi\u001b[0m\u001b[0;34m)\u001b[0m \u001b[0;34m*\u001b[0m \u001b[0;34m\"°\"\u001b[0m\u001b[0;34m)\u001b[0m\u001b[0;34m)\u001b[0m \u001b[0;32mif\u001b[0m \u001b[0mi\u001b[0m \u001b[0;34m<\u001b[0m \u001b[0mlim\u001b[0m \u001b[0;32melse\u001b[0m \u001b[0;34m(\u001b[0m\u001b[0;34m(\u001b[0m\u001b[0;34m(\u001b[0m\u001b[0mi\u001b[0m\u001b[0;34m-\u001b[0m\u001b[0mlim\u001b[0m\u001b[0;34m+\u001b[0m\u001b[0;36m1\u001b[0m\u001b[0;34m)\u001b[0m \u001b[0;34m*\u001b[0m \u001b[0;34m\"°\"\u001b[0m\u001b[0;34m)\u001b[0m \u001b[0;34m+\u001b[0m \u001b[0;34m(\u001b[0m\u001b[0;34m(\u001b[0m\u001b[0;34m(\u001b[0m\u001b[0;36m2\u001b[0m\u001b[0;34m*\u001b[0m\u001b[0mlim\u001b[0m\u001b[0;34m)\u001b[0m\u001b[0;34m-\u001b[0m\u001b[0mi\u001b[0m\u001b[0;34m-\u001b[0m\u001b[0;36m1\u001b[0m\u001b[0;34m)\u001b[0m \u001b[0;34m*\u001b[0m \u001b[0;34m\" \"\u001b[0m\u001b[0;34m)\u001b[0m\u001b[0;34m)\u001b[0m \u001b[0;34m+\u001b[0m \u001b[0;34m(\u001b[0m\u001b[0;34m(\u001b[0m\u001b[0;34m(\u001b[0m\u001b[0;34m(\u001b[0m\u001b[0;36m2\u001b[0m\u001b[0;34m*\u001b[0m\u001b[0mlim\u001b[0m\u001b[0;34m)\u001b[0m\u001b[0;34m-\u001b[0m\u001b[0mi\u001b[0m\u001b[0;34m-\u001b[0m\u001b[0;36m1\u001b[0m\u001b[0;34m)\u001b[0m \u001b[0;34m*\u001b[0m \u001b[0;34m\" \"\u001b[0m\u001b[0;34m)\u001b[0m \u001b[0;34m+\u001b[0m \u001b[0;34m(\u001b[0m\u001b[0;34m(\u001b[0m\u001b[0mi\u001b[0m\u001b[0;34m-\u001b[0m\u001b[0mlim\u001b[0m\u001b[0;34m+\u001b[0m\u001b[0;36m1\u001b[0m\u001b[0;34m)\u001b[0m \u001b[0;34m*\u001b[0m \u001b[0;34m\"°\"\u001b[0m\u001b[0;34m)\u001b[0m\u001b[0;34m)\u001b[0m\u001b[0;34m)\u001b[0m\u001b[0;34m\u001b[0m\u001b[0;34m\u001b[0m\u001b[0m\n\u001b[1;32m     14\u001b[0m       \u001b[0;32melse\u001b[0m\u001b[0;34m:\u001b[0m\u001b[0;34m\u001b[0m\u001b[0;34m\u001b[0m\u001b[0m\n\u001b[0;32m---> 15\u001b[0;31m         \u001b[0;32mraise\u001b[0m \u001b[0mException\u001b[0m\u001b[0;34m(\u001b[0m\u001b[0;34m\"For figure no. 3, 'n' can't be a odd number!\"\u001b[0m\u001b[0;34m)\u001b[0m\u001b[0;34m\u001b[0m\u001b[0;34m\u001b[0m\u001b[0m\n\u001b[0m",
            "\u001b[0;31mException\u001b[0m: For figure no. 3, 'n' can't be a odd number!"
          ]
        }
      ]
    },
    {
      "cell_type": "markdown",
      "metadata": {
        "id": "eYcp8E0xlAXG"
      },
      "source": [
        "### Clases y objetos\n",
        "\n",
        "Diseña una clase Matriz con las siguientes características:\n",
        "\n",
        "1. Como inicialización de un objeto es necesario conocer $n$, $m$ y tipo. En caso de no proporcionar $m$ la matriz se asume cuadrada de $n \\times n$. En caso de no proporcionar $n$ la matriz tendrá una dimensión de $1 \\times 1$.\n",
        "2. De no especificarse todos los elementos se inicializan a 0, a menos que exista un tipo especial ( `unos` o `diag` por el momento).\n",
        "3. Implementa con sobrecarga la suma de matrices, la multiplicación de matrices y la multiplicación por un escalar.\n",
        "4. Implementa como métodos eliminar columna y eliminar fila.   \n",
        "5. Programa la representación visual de la matriz.\n",
        "6. Ten en cuenta tambien el manejo de errores.\n",
        "\n",
        "\n",
        "Ejemplo de uso:\n",
        "\n",
        "```\n",
        ">>> A = Matriz(n=3, m=4)\n",
        "\n",
        ">>> print(A)\n",
        "0 0 0 0\n",
        "0 0 0 0\n",
        "0 0 0 0\n",
        "\n",
        ">>> A = A.quitafila(2)\n",
        "\n",
        ">>> print(A)\n",
        "0 0 0 0\n",
        "0 0 0 0\n",
        "\n",
        ">>> B = Matriz(4,4,'diag')\n",
        "\n",
        ">>> print(B)\n",
        "1 0 0 0\n",
        "0 1 0 0\n",
        "0 0 1 0\n",
        "0 0 0 1\n",
        "\n",
        ">>> C = Matriz(4,1,'unos')\n",
        "\n",
        ">>> print(C)\n",
        "1\n",
        "1\n",
        "1\n",
        "1\n",
        "\n",
        ">>> D = 3 * B * C\n",
        "\n",
        ">>> print(D)\n",
        "3\n",
        "3\n",
        "3\n",
        "3\n",
        "\n",
        ">>> E = 3 * B + C\n",
        "error \"No seas menso, si no son de la misma dimensión las matrices no se pueden sumar\"\n",
        "```"
      ]
    },
    {
      "cell_type": "code",
      "execution_count": 182,
      "metadata": {
        "id": "5rbtSGWwlAXG"
      },
      "outputs": [],
      "source": [
        "# Desarrolla aqui la clase\n",
        "\n",
        "class Matriz:\n",
        "\n",
        "  # Class constructor will receive three parameters:\n",
        "  # - n -> number of rows\n",
        "  # - m -> number of columns\n",
        "  # - type -> in case someone wants the identity matrix or amatrix filled with ones or zeros\n",
        "  def __init__(self, n=1, m=None, type='zeros'):\n",
        "    # if no value is given for 'm', the matrix will be 'n x n'\n",
        "    m = n if m == None else m\n",
        "    self.cols = m\n",
        "    self.rows = n\n",
        "    self.type = type\n",
        "    if self.type == 'unos':\n",
        "      self.values = [ [ 1 for c in range(self.cols) ] for r in range(self.rows) ]\n",
        "    else:\n",
        "      self.values = [ [ 0 for c in range(self.cols) ] for r in range(self.rows) ]\n",
        "\n",
        "    # If the matrix is diagonal, we just replace the diagonal values of a zeros-filled matrix with ones.\n",
        "    if self.type == 'diag':\n",
        "      min_dimension = self.cols if self.cols < self.rows else self.rows\n",
        "      for i in range(min_dimension):\n",
        "          self.values[i][i] = 1\n",
        "  # When someone wants to print the matrix, it should be printed in its rows and columns.\n",
        "  def __str__(self):\n",
        "    res = \"\"\n",
        "    for row in range(self.rows):\n",
        "      res += \"\\n\"\n",
        "      for col in range(self.cols):\n",
        "        res += str(self.values[row][col]) + \"\\t\"\n",
        "    return res\n",
        "\n",
        "  # We overload the sum function to add the values correctly.\n",
        "  def __add__(self, x):\n",
        "    # If the matrices are not the same dimensions, then we throw an exception.\n",
        "    if x.rows != self.rows or x.cols != self.cols:\n",
        "      raise Exception(\"No seas menso, si no son de la misma dimensión las matrices no se pueden sumar\")\n",
        "      return\n",
        "    # We create a new matrix with the added values and return it.\n",
        "    new_matrix = Matriz(self.rows, self.cols, self.type)\n",
        "    new_matrix.values = [ [ self.values[i][j] + x.values[i][j] for j in range(new_matrix.cols) ] for i in range(new_matrix.rows) ]\n",
        "    return new_matrix\n",
        "\n",
        "  # We overload the multiplication function to multiply the matrices correctly.\n",
        "  def __mul__(self, x):\n",
        "    # If we are multiplying the matrix by a scalar, we just multiply all values for that particular scalar.\n",
        "    if type(x) == int:\n",
        "      new_matrix = Matriz(self.rows, self.cols, self.type)\n",
        "      new_matrix.values = [ [ self.values[r][c] * x for c in range(self.cols) ] for r in range(self.rows) ]\n",
        "      return new_matrix\n",
        "\n",
        "    # If we are multiplying two matrices, we calculate each new value coorectly according to the matrix multiplication definition.\n",
        "\n",
        "    # If the matrices' dimensions do not allow for multiplication, we throw an exception.\n",
        "    if self.cols != x.rows:\n",
        "      raise Exception(\"No seas menso, si el numero de columnas de la primer matriz no es igual al numero de renglones de la segunda no se pueden multiplicar\")\n",
        "    # We store the new values in a new matrix and return it as the result.\n",
        "    new_matrix = Matriz(self.rows, x.cols)\n",
        "    for i in range(new_matrix.rows):\n",
        "      for j in range(new_matrix.cols):\n",
        "          for k in range(x.rows):\n",
        "            new_matrix.values[i][j] += self.values[i][k] * x.values[k][j]\n",
        "    return new_matrix\n",
        "\n",
        "  # We also overload the reverse function for m,ultiplication.\n",
        "  # This is just in case we prefer to multiply with a scalar placing the scalar first in the notation ('3 * A' and 'A * 3' are both valid now).\n",
        "  def __rmul__(self, x):\n",
        "    return self.__mul__(x)\n",
        "\n",
        "  # This function will remove a row from the matrix.\n",
        "  def quitafila(self, row):\n",
        "    # We create a new matrix and copy the values from the original one excluding the specified row.\n",
        "    new_matrix = Matriz(self.rows-1, self.cols, self.type)\n",
        "    new_matrix.values = [ [ self.values[i][j] for j in range(new_matrix.cols) ] for i in range(new_matrix.rows) if i != row ]\n",
        "    return new_matrix\n"
      ]
    },
    {
      "cell_type": "code",
      "execution_count": 184,
      "metadata": {
        "id": "wT8WJy1xlAXG",
        "colab": {
          "base_uri": "https://localhost:8080/",
          "height": 766
        },
        "outputId": "ef1df365-1d35-479c-e2ef-8e2da2c22c9b"
      },
      "outputs": [
        {
          "output_type": "stream",
          "name": "stdout",
          "text": [
            "A = \n",
            "0\t0\t0\t0\t\n",
            "0\t0\t0\t0\t\n",
            "0\t0\t0\t0\t\n",
            "\n",
            "A =  \n",
            "0\t0\t0\t0\t\n",
            "0\t0\t0\t0\t\n",
            "\n",
            "B =  \n",
            "1\t0\t0\t0\t\n",
            "0\t1\t0\t0\t\n",
            "0\t0\t1\t0\t\n",
            "0\t0\t0\t1\t\n",
            "\n",
            "C = \n",
            "1\t\n",
            "1\t\n",
            "1\t\n",
            "1\t\n",
            "\n",
            "D =  \n",
            "3\t\n",
            "3\t\n",
            "3\t\n",
            "3\t\n"
          ]
        },
        {
          "output_type": "error",
          "ename": "Exception",
          "evalue": "No seas menso, si no son de la misma dimensión las matrices no se pueden sumar",
          "traceback": [
            "\u001b[0;31m---------------------------------------------------------------------------\u001b[0m",
            "\u001b[0;31mException\u001b[0m                                 Traceback (most recent call last)",
            "\u001b[0;32m<ipython-input-184-018924d9f9d7>\u001b[0m in \u001b[0;36m<cell line: 18>\u001b[0;34m()\u001b[0m\n\u001b[1;32m     16\u001b[0m \u001b[0mprint\u001b[0m\u001b[0;34m(\u001b[0m\u001b[0;34m'\\nD = '\u001b[0m\u001b[0;34m,\u001b[0m \u001b[0mD\u001b[0m\u001b[0;34m)\u001b[0m\u001b[0;34m\u001b[0m\u001b[0;34m\u001b[0m\u001b[0m\n\u001b[1;32m     17\u001b[0m \u001b[0;34m\u001b[0m\u001b[0m\n\u001b[0;32m---> 18\u001b[0;31m \u001b[0mE\u001b[0m \u001b[0;34m=\u001b[0m \u001b[0;36m3\u001b[0m \u001b[0;34m*\u001b[0m \u001b[0mB\u001b[0m \u001b[0;34m+\u001b[0m \u001b[0mC\u001b[0m\u001b[0;34m\u001b[0m\u001b[0;34m\u001b[0m\u001b[0m\n\u001b[0m\u001b[1;32m     19\u001b[0m \u001b[0mprint\u001b[0m\u001b[0;34m(\u001b[0m\u001b[0;34m'\\nE = '\u001b[0m\u001b[0;34m,\u001b[0m \u001b[0mE\u001b[0m\u001b[0;34m)\u001b[0m\u001b[0;34m\u001b[0m\u001b[0;34m\u001b[0m\u001b[0m\n",
            "\u001b[0;32m<ipython-input-182-8f53eda0abca>\u001b[0m in \u001b[0;36m__add__\u001b[0;34m(self, x)\u001b[0m\n\u001b[1;32m     36\u001b[0m     \u001b[0;31m# If the matrices are not the same dimensions, then we throw an exception.\u001b[0m\u001b[0;34m\u001b[0m\u001b[0;34m\u001b[0m\u001b[0m\n\u001b[1;32m     37\u001b[0m     \u001b[0;32mif\u001b[0m \u001b[0mx\u001b[0m\u001b[0;34m.\u001b[0m\u001b[0mrows\u001b[0m \u001b[0;34m!=\u001b[0m \u001b[0mself\u001b[0m\u001b[0;34m.\u001b[0m\u001b[0mrows\u001b[0m \u001b[0;32mor\u001b[0m \u001b[0mx\u001b[0m\u001b[0;34m.\u001b[0m\u001b[0mcols\u001b[0m \u001b[0;34m!=\u001b[0m \u001b[0mself\u001b[0m\u001b[0;34m.\u001b[0m\u001b[0mcols\u001b[0m\u001b[0;34m:\u001b[0m\u001b[0;34m\u001b[0m\u001b[0;34m\u001b[0m\u001b[0m\n\u001b[0;32m---> 38\u001b[0;31m       \u001b[0;32mraise\u001b[0m \u001b[0mException\u001b[0m\u001b[0;34m(\u001b[0m\u001b[0;34m\"No seas menso, si no son de la misma dimensión las matrices no se pueden sumar\"\u001b[0m\u001b[0;34m)\u001b[0m\u001b[0;34m\u001b[0m\u001b[0;34m\u001b[0m\u001b[0m\n\u001b[0m\u001b[1;32m     39\u001b[0m       \u001b[0;32mreturn\u001b[0m\u001b[0;34m\u001b[0m\u001b[0;34m\u001b[0m\u001b[0m\n\u001b[1;32m     40\u001b[0m     \u001b[0;31m# We create a new matrix with the added values and return it.\u001b[0m\u001b[0;34m\u001b[0m\u001b[0;34m\u001b[0m\u001b[0m\n",
            "\u001b[0;31mException\u001b[0m: No seas menso, si no son de la misma dimensión las matrices no se pueden sumar"
          ]
        }
      ],
      "source": [
        "# Realiza las pruebas a la clase aquí\n",
        "\n",
        "A = Matriz(n=3, m=4)\n",
        "print('A =', A)\n",
        "\n",
        "A = A.quitafila(2)\n",
        "print('\\nA = ', A)\n",
        "\n",
        "B = Matriz(4,4,'diag')\n",
        "print('\\nB = ', B)\n",
        "\n",
        "C = Matriz(4,1,'unos')\n",
        "print('\\nC =', C)\n",
        "\n",
        "D = 3 * B * C\n",
        "print('\\nD = ', D)\n",
        "\n",
        "E = 3 * B + C\n",
        "print('\\nE = ', E)"
      ]
    },
    {
      "cell_type": "code",
      "source": [],
      "metadata": {
        "id": "ul1_elwG6ePJ"
      },
      "execution_count": null,
      "outputs": []
    }
  ],
  "metadata": {
    "kernelspec": {
      "display_name": "ing-caract",
      "language": "python",
      "name": "python3"
    },
    "language_info": {
      "codemirror_mode": {
        "name": "ipython",
        "version": 3
      },
      "file_extension": ".py",
      "mimetype": "text/x-python",
      "name": "python",
      "nbconvert_exporter": "python",
      "pygments_lexer": "ipython3",
      "version": "3.8.13"
    },
    "orig_nbformat": 4,
    "colab": {
      "provenance": []
    }
  },
  "nbformat": 4,
  "nbformat_minor": 0
}